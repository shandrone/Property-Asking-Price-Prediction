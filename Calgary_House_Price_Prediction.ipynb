{
  "nbformat": 4,
  "nbformat_minor": 0,
  "metadata": {
    "colab": {
      "name": "Calgary House Price Prediction ",
      "provenance": []
    },
    "kernelspec": {
      "name": "python3",
      "display_name": "Python 3"
    }
  },
  "cells": [
    {
      "cell_type": "code",
      "metadata": {
        "id": "oZEgba7XzVHc",
        "colab_type": "code",
        "colab": {}
      },
      "source": [
        "import numpy as np\n",
        "import pandas as pd\n",
        "from matplotlib import pyplot as plt\n",
        "%matplotlib inline\n",
        "from sklearn.linear_model import LinearRegression\n",
        "from sklearn.linear_model import LogisticRegression"
      ],
      "execution_count": 1,
      "outputs": []
    },
    {
      "cell_type": "code",
      "metadata": {
        "id": "jAtpim615aHZ",
        "colab_type": "code",
        "colab": {}
      },
      "source": [
        "from sklearn.metrics import classification_report\n",
        "from sklearn import preprocessing"
      ],
      "execution_count": 2,
      "outputs": []
    },
    {
      "cell_type": "code",
      "metadata": {
        "id": "44Ai595J6NCq",
        "colab_type": "code",
        "colab": {
          "resources": {
            "http://localhost:8080/nbextensions/google.colab/files.js": {
              "data": "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",
              "ok": true,
              "headers": [
                [
                  "content-type",
                  "application/javascript"
                ]
              ],
              "status": 200,
              "status_text": ""
            }
          },
          "base_uri": "https://localhost:8080/",
          "height": 72
        },
        "outputId": "7c023bc8-097a-48b5-965b-6bad6f02f5aa"
      },
      "source": [
        "from google.colab import files # for importing dataset form local drive to this notebook\n",
        "uploaded = files.upload()"
      ],
      "execution_count": 3,
      "outputs": [
        {
          "output_type": "display_data",
          "data": {
            "text/html": [
              "\n",
              "     <input type=\"file\" id=\"files-7e96a682-66bc-463a-962e-e893c2e63ee2\" name=\"files[]\" multiple disabled\n",
              "        style=\"border:none\" />\n",
              "     <output id=\"result-7e96a682-66bc-463a-962e-e893c2e63ee2\">\n",
              "      Upload widget is only available when the cell has been executed in the\n",
              "      current browser session. Please rerun this cell to enable.\n",
              "      </output>\n",
              "      <script src=\"/nbextensions/google.colab/files.js\"></script> "
            ],
            "text/plain": [
              "<IPython.core.display.HTML object>"
            ]
          },
          "metadata": {
            "tags": []
          }
        },
        {
          "output_type": "stream",
          "text": [
            "Saving project_1.csv to project_1.csv\n"
          ],
          "name": "stdout"
        }
      ]
    },
    {
      "cell_type": "code",
      "metadata": {
        "id": "1SMOUhgd6m5R",
        "colab_type": "code",
        "colab": {}
      },
      "source": [
        "import io"
      ],
      "execution_count": 4,
      "outputs": []
    },
    {
      "cell_type": "code",
      "metadata": {
        "id": "KmQyCggN6rMU",
        "colab_type": "code",
        "colab": {}
      },
      "source": [
        "property_data = pd.read_csv(io.BytesIO(uploaded['project_1.csv']))"
      ],
      "execution_count": 5,
      "outputs": []
    },
    {
      "cell_type": "markdown",
      "metadata": {
        "id": "CO7PJoT5DWig",
        "colab_type": "text"
      },
      "source": [
        "DataSet, values taken from Realtor.ca and Regina.ca"
      ]
    },
    {
      "cell_type": "code",
      "metadata": {
        "id": "iZi4EXnb6x5h",
        "colab_type": "code",
        "colab": {
          "base_uri": "https://localhost:8080/",
          "height": 419
        },
        "outputId": "c67e5e3e-c595-4d22-cd4a-1ce1ac5db0c4"
      },
      "source": [
        "property_data"
      ],
      "execution_count": 6,
      "outputs": [
        {
          "output_type": "execute_result",
          "data": {
            "text/html": [
              "<div>\n",
              "<style scoped>\n",
              "    .dataframe tbody tr th:only-of-type {\n",
              "        vertical-align: middle;\n",
              "    }\n",
              "\n",
              "    .dataframe tbody tr th {\n",
              "        vertical-align: top;\n",
              "    }\n",
              "\n",
              "    .dataframe thead th {\n",
              "        text-align: right;\n",
              "    }\n",
              "</style>\n",
              "<table border=\"1\" class=\"dataframe\">\n",
              "  <thead>\n",
              "    <tr style=\"text-align: right;\">\n",
              "      <th></th>\n",
              "      <th>Asking_Price</th>\n",
              "      <th>Assessed_Price</th>\n",
              "      <th>Property_Type</th>\n",
              "      <th>Storeys</th>\n",
              "      <th>Year_Built</th>\n",
              "      <th>Neighbourhood</th>\n",
              "      <th>Building_Type</th>\n",
              "      <th>Address</th>\n",
              "    </tr>\n",
              "  </thead>\n",
              "  <tbody>\n",
              "    <tr>\n",
              "      <th>0</th>\n",
              "      <td>14999</td>\n",
              "      <td>29000</td>\n",
              "      <td>single_family</td>\n",
              "      <td>1.0</td>\n",
              "      <td>1976</td>\n",
              "      <td>Greenwood</td>\n",
              "      <td>mobile</td>\n",
              "      <td>NaN</td>\n",
              "    </tr>\n",
              "    <tr>\n",
              "      <th>1</th>\n",
              "      <td>204000</td>\n",
              "      <td>203000</td>\n",
              "      <td>single_family</td>\n",
              "      <td>1.0</td>\n",
              "      <td>2003</td>\n",
              "      <td>downtown east village</td>\n",
              "      <td>apartment</td>\n",
              "      <td>214 630 8 AV SE</td>\n",
              "    </tr>\n",
              "    <tr>\n",
              "      <th>2</th>\n",
              "      <td>439900</td>\n",
              "      <td>421000</td>\n",
              "      <td>single_family</td>\n",
              "      <td>2.0</td>\n",
              "      <td>1995</td>\n",
              "      <td>coral spring</td>\n",
              "      <td>house</td>\n",
              "      <td>157 CORAL KEYS CO NE</td>\n",
              "    </tr>\n",
              "    <tr>\n",
              "      <th>3</th>\n",
              "      <td>199500</td>\n",
              "      <td>191000</td>\n",
              "      <td>single_family</td>\n",
              "      <td>1.0</td>\n",
              "      <td>1969</td>\n",
              "      <td>beltline</td>\n",
              "      <td>apartment</td>\n",
              "      <td>103 1236 15 AV SW</td>\n",
              "    </tr>\n",
              "    <tr>\n",
              "      <th>4</th>\n",
              "      <td>429900</td>\n",
              "      <td>480500</td>\n",
              "      <td>single_family</td>\n",
              "      <td>2.0</td>\n",
              "      <td>1975</td>\n",
              "      <td>southwood</td>\n",
              "      <td>house</td>\n",
              "      <td>11411 SOUTHDALE CL SW</td>\n",
              "    </tr>\n",
              "    <tr>\n",
              "      <th>...</th>\n",
              "      <td>...</td>\n",
              "      <td>...</td>\n",
              "      <td>...</td>\n",
              "      <td>...</td>\n",
              "      <td>...</td>\n",
              "      <td>...</td>\n",
              "      <td>...</td>\n",
              "      <td>...</td>\n",
              "    </tr>\n",
              "    <tr>\n",
              "      <th>195</th>\n",
              "      <td>1599000</td>\n",
              "      <td>1390000</td>\n",
              "      <td>single_family</td>\n",
              "      <td>2.0</td>\n",
              "      <td>2011</td>\n",
              "      <td>Altadore</td>\n",
              "      <td>House</td>\n",
              "      <td>1922 44 AV SW</td>\n",
              "    </tr>\n",
              "    <tr>\n",
              "      <th>196</th>\n",
              "      <td>1599000</td>\n",
              "      <td>1490000</td>\n",
              "      <td>single_family</td>\n",
              "      <td>2.0</td>\n",
              "      <td>2015</td>\n",
              "      <td>Altadore</td>\n",
              "      <td>House</td>\n",
              "      <td>2003 48 AV SW</td>\n",
              "    </tr>\n",
              "    <tr>\n",
              "      <th>197</th>\n",
              "      <td>1595000</td>\n",
              "      <td>1190000</td>\n",
              "      <td>single_family</td>\n",
              "      <td>2.0</td>\n",
              "      <td>2015</td>\n",
              "      <td>Altadore</td>\n",
              "      <td>House</td>\n",
              "      <td>3901 17 ST SW</td>\n",
              "    </tr>\n",
              "    <tr>\n",
              "      <th>198</th>\n",
              "      <td>1580000</td>\n",
              "      <td>1990000</td>\n",
              "      <td>single_family</td>\n",
              "      <td>2.5</td>\n",
              "      <td>1912</td>\n",
              "      <td>Upper Mount Royal\\r</td>\n",
              "      <td>House</td>\n",
              "      <td>1415 PROSPECT AV SW</td>\n",
              "    </tr>\n",
              "    <tr>\n",
              "      <th>199</th>\n",
              "      <td>1535000</td>\n",
              "      <td>498000</td>\n",
              "      <td>single_family</td>\n",
              "      <td>2.0</td>\n",
              "      <td>2019</td>\n",
              "      <td>Richmond</td>\n",
              "      <td>House</td>\n",
              "      <td>2210 31 AV SW</td>\n",
              "    </tr>\n",
              "  </tbody>\n",
              "</table>\n",
              "<p>200 rows × 8 columns</p>\n",
              "</div>"
            ],
            "text/plain": [
              "     Asking_Price  Assessed_Price  ... Building_Type                Address\n",
              "0           14999           29000  ...        mobile                    NaN\n",
              "1          204000          203000  ...     apartment        214 630 8 AV SE\n",
              "2          439900          421000  ...         house   157 CORAL KEYS CO NE\n",
              "3          199500          191000  ...     apartment      103 1236 15 AV SW\n",
              "4          429900          480500  ...         house  11411 SOUTHDALE CL SW\n",
              "..            ...             ...  ...           ...                    ...\n",
              "195       1599000         1390000  ...         House          1922 44 AV SW\n",
              "196       1599000         1490000  ...         House          2003 48 AV SW\n",
              "197       1595000         1190000  ...         House          3901 17 ST SW\n",
              "198       1580000         1990000  ...         House    1415 PROSPECT AV SW\n",
              "199       1535000          498000  ...         House          2210 31 AV SW\n",
              "\n",
              "[200 rows x 8 columns]"
            ]
          },
          "metadata": {
            "tags": []
          },
          "execution_count": 6
        }
      ]
    },
    {
      "cell_type": "code",
      "metadata": {
        "id": "9aXIgW2-6zpL",
        "colab_type": "code",
        "colab": {}
      },
      "source": [
        "#independent variables \n",
        "A = property_data.loc[:,['Year_Built','Storeys','Building_Type','Neighbourhood','Assessed_Price']]\n",
        "#dependent variables\n",
        "B = property_data['Asking_Price']\n"
      ],
      "execution_count": 7,
      "outputs": []
    },
    {
      "cell_type": "code",
      "metadata": {
        "colab_type": "code",
        "id": "TuQ0G770wLV-",
        "colab": {}
      },
      "source": [
        "#start = 0\n",
        "#for i in range(0, len(property_data.index)):\n",
        "#    if (i + 1)%10 == 0:\n",
        "#        result = property_data.iloc[start:i+1].values.reshape(1,-1)\n",
        "#        start = i + 1"
      ],
      "execution_count": 8,
      "outputs": []
    },
    {
      "cell_type": "markdown",
      "metadata": {
        "id": "iHyeEs6x7RZC",
        "colab_type": "text"
      },
      "source": [
        "**dummy**"
      ]
    },
    {
      "cell_type": "code",
      "metadata": {
        "id": "6HTQGrdN7XRc",
        "colab_type": "code",
        "colab": {}
      },
      "source": [
        "#creating dummy for Neighbourhood and Building Type data to convert nominial ato numeric Fe\n",
        "location=pd.get_dummies(A['Neighbourhood'],drop_first=True)\n",
        "A=A.drop('Neighbourhood',axis=1)\n",
        "A=pd.concat([A,location],axis=1)\n"
      ],
      "execution_count": 9,
      "outputs": []
    },
    {
      "cell_type": "code",
      "metadata": {
        "id": "iw4NU4I15SiO",
        "colab_type": "code",
        "colab": {}
      },
      "source": [
        "\n",
        "building=pd.get_dummies(A['Building_Type'],drop_first=True)\n",
        "A=A.drop('Building_Type',axis=1)\n",
        "A=pd.concat([A,building],axis=1)"
      ],
      "execution_count": 10,
      "outputs": []
    },
    {
      "cell_type": "code",
      "metadata": {
        "id": "TEmFLz0f4asx",
        "colab_type": "code",
        "colab": {
          "base_uri": "https://localhost:8080/",
          "height": 34
        },
        "outputId": "7777fd27-6abb-49c2-8ddc-0d1e8b484c41"
      },
      "source": [
        "from sklearn.model_selection import train_test_split\n",
        "#split the training and tetsing data \n",
        "x_train,x_test,y_train,y_test = train_test_split(A,B,test_size = 0.2, random_state = 0)\n",
        "\n",
        "\n",
        "final_model = LinearRegression()\n",
        "\n",
        "#train the model\n",
        "final_model.fit(x_train,y_train)"
      ],
      "execution_count": 11,
      "outputs": [
        {
          "output_type": "execute_result",
          "data": {
            "text/plain": [
              "LinearRegression(copy_X=True, fit_intercept=True, n_jobs=None, normalize=False)"
            ]
          },
          "metadata": {
            "tags": []
          },
          "execution_count": 11
        }
      ]
    },
    {
      "cell_type": "code",
      "metadata": {
        "id": "Jb_cSqej4sJm",
        "colab_type": "code",
        "colab": {}
      },
      "source": [
        "final_accuracy = final_model.score(A,B)"
      ],
      "execution_count": 12,
      "outputs": []
    },
    {
      "cell_type": "code",
      "metadata": {
        "id": "UoX6jAdW4-SL",
        "colab_type": "code",
        "colab": {
          "base_uri": "https://localhost:8080/",
          "height": 34
        },
        "outputId": "cd07d5a5-5c2d-4862-e6ce-38d3850cd7bb"
      },
      "source": [
        "print(final_accuracy)"
      ],
      "execution_count": 13,
      "outputs": [
        {
          "output_type": "stream",
          "text": [
            "0.9429098695684723\n"
          ],
          "name": "stdout"
        }
      ]
    },
    {
      "cell_type": "code",
      "metadata": {
        "id": "AV5JFM6e5H64",
        "colab_type": "code",
        "colab": {
          "base_uri": "https://localhost:8080/",
          "height": 442
        },
        "outputId": "bd52b81d-3bce-4ee3-f7fe-7a05f332250a"
      },
      "source": [
        "print (final_model. intercept_, final_model.coef_)"
      ],
      "execution_count": 14,
      "outputs": [
        {
          "output_type": "stream",
          "text": [
            "-6144968.728571558 [ 3.04549830e+03  1.84806283e+05  8.00700377e-01 -1.57605771e+05\n",
            "  3.84009830e+03  2.21262788e+05 -2.24326202e+05 -3.25662360e-04\n",
            " -2.19338659e+05 -3.42632004e-04  1.83897529e+06  7.20983523e+04\n",
            " -1.18890991e+05 -1.33564540e+05  7.32074800e+05 -5.20626457e+04\n",
            "  4.80141073e+05  8.74983380e-05 -6.44528191e-05 -3.29631844e+04\n",
            " -1.87896331e+03  9.11278943e+05 -3.03913870e+05  1.70027139e-04\n",
            " -1.17468150e+05 -7.39836389e+04  1.88341626e+06 -3.81964660e+04\n",
            " -1.92662198e+04  1.05006746e+05  1.21614372e-04 -6.62864590e+04\n",
            " -3.62497012e-04  1.83049972e+05  6.11116567e+05  3.08924709e+05\n",
            "  4.95146578e+05  2.73622145e-04 -1.46255124e+05  5.13844658e-04\n",
            " -4.71327229e+04  1.35908181e+05  6.31945430e+05 -2.62496109e+04\n",
            " -1.02191865e+05  2.12837732e+05  7.62746316e+05  6.86545668e+05\n",
            "  7.84758724e+04  1.43102474e+05 -3.41650862e+03 -7.06968855e+04\n",
            " -9.21143744e+04 -1.09546034e+05  4.82438409e+05  1.01863325e+06\n",
            " -2.21304949e+05 -4.09879837e+04  1.58408464e+05  7.76566574e+05\n",
            " -1.53433470e+05  2.54573534e+05  3.84331506e+04 -1.23918129e+05\n",
            " -2.07959315e+02  1.77584562e+05  5.20143322e+05  1.88589434e+06\n",
            " -5.18642832e-04 -8.64497270e-05  1.81047695e+06  1.40481671e+05\n",
            "  1.27251903e+05  1.30476906e+05 -1.32595317e-03 -7.92800788e+04\n",
            " -5.68593503e-04 -1.08473741e+05 -1.15011049e+05  8.05991017e+04\n",
            "  1.64299324e+05 -2.17768044e+05 -3.78349796e-10  1.19615525e+05\n",
            " -1.16415322e-10 -2.43483996e+05 -6.65204829e+04  1.10498629e+05\n",
            "  8.10830984e+04 -8.47927515e+04  1.94227323e-06  6.16411371e+05\n",
            "  1.26122137e+05 -6.66094208e+04 -1.40444147e+05 -5.02794028e+04\n",
            " -8.91340550e+04  3.22961945e+02 -2.10470711e+05]\n"
          ],
          "name": "stdout"
        }
      ]
    },
    {
      "cell_type": "markdown",
      "metadata": {
        "id": "YA91xPE5_UfS",
        "colab_type": "text"
      },
      "source": [
        "NEEDS TO FINISH this slot"
      ]
    },
    {
      "cell_type": "code",
      "metadata": {
        "id": "Q1KncB3p6U06",
        "colab_type": "code",
        "colab": {
          "base_uri": "https://localhost:8080/",
          "height": 1000
        },
        "outputId": "8c873113-eaec-484f-a580-728b4ea08cf1"
      },
      "source": [
        "import statsmodels.api as sm\n",
        "A = sm.add_constant(A)\n",
        "model = sm.OLS(B,A).fit()\n",
        "model.summary()"
      ],
      "execution_count": 15,
      "outputs": [
        {
          "output_type": "stream",
          "text": [
            "/usr/local/lib/python3.6/dist-packages/statsmodels/tools/_testing.py:19: FutureWarning: pandas.util.testing is deprecated. Use the functions in the public API at pandas.testing instead.\n",
            "  import pandas.util.testing as tm\n"
          ],
          "name": "stderr"
        },
        {
          "output_type": "execute_result",
          "data": {
            "text/html": [
              "<table class=\"simpletable\">\n",
              "<caption>OLS Regression Results</caption>\n",
              "<tr>\n",
              "  <th>Dep. Variable:</th>      <td>Asking_Price</td>   <th>  R-squared:         </th> <td>   0.967</td>\n",
              "</tr>\n",
              "<tr>\n",
              "  <th>Model:</th>                   <td>OLS</td>       <th>  Adj. R-squared:    </th> <td>   0.934</td>\n",
              "</tr>\n",
              "<tr>\n",
              "  <th>Method:</th>             <td>Least Squares</td>  <th>  F-statistic:       </th> <td>   29.84</td>\n",
              "</tr>\n",
              "<tr>\n",
              "  <th>Date:</th>             <td>Wed, 23 Sep 2020</td> <th>  Prob (F-statistic):</th> <td>1.94e-47</td>\n",
              "</tr>\n",
              "<tr>\n",
              "  <th>Time:</th>                 <td>20:08:28</td>     <th>  Log-Likelihood:    </th> <td> -2702.0</td>\n",
              "</tr>\n",
              "<tr>\n",
              "  <th>No. Observations:</th>      <td>   200</td>      <th>  AIC:               </th> <td>   5602.</td>\n",
              "</tr>\n",
              "<tr>\n",
              "  <th>Df Residuals:</th>          <td>   101</td>      <th>  BIC:               </th> <td>   5928.</td>\n",
              "</tr>\n",
              "<tr>\n",
              "  <th>Df Model:</th>              <td>    98</td>      <th>                     </th>     <td> </td>   \n",
              "</tr>\n",
              "<tr>\n",
              "  <th>Covariance Type:</th>      <td>nonrobust</td>    <th>                     </th>     <td> </td>   \n",
              "</tr>\n",
              "</table>\n",
              "<table class=\"simpletable\">\n",
              "<tr>\n",
              "                <td></td>                   <th>coef</th>     <th>std err</th>      <th>t</th>      <th>P>|t|</th>  <th>[0.025</th>    <th>0.975]</th>  \n",
              "</tr>\n",
              "<tr>\n",
              "  <th>const</th>                         <td> 9.539e+05</td> <td> 5.93e+06</td> <td>    0.161</td> <td> 0.872</td> <td>-1.08e+07</td> <td> 1.27e+07</td>\n",
              "</tr>\n",
              "<tr>\n",
              "  <th>Year_Built</th>                    <td> -515.1413</td> <td> 3001.929</td> <td>   -0.172</td> <td> 0.864</td> <td>-6470.162</td> <td> 5439.879</td>\n",
              "</tr>\n",
              "<tr>\n",
              "  <th>Storeys</th>                       <td> 1.221e+05</td> <td> 7.07e+04</td> <td>    1.727</td> <td> 0.087</td> <td>-1.82e+04</td> <td> 2.62e+05</td>\n",
              "</tr>\n",
              "<tr>\n",
              "  <th>Assessed_Price</th>                <td>    0.8334</td> <td>    0.104</td> <td>    8.021</td> <td> 0.000</td> <td>    0.627</td> <td>    1.040</td>\n",
              "</tr>\n",
              "<tr>\n",
              "  <th>Abbeydale</th>                     <td>-9.509e+04</td> <td> 2.92e+05</td> <td>   -0.326</td> <td> 0.745</td> <td>-6.74e+05</td> <td> 4.84e+05</td>\n",
              "</tr>\n",
              "<tr>\n",
              "  <th>Acadia</th>                        <td> -2.27e+04</td> <td> 3.76e+05</td> <td>   -0.060</td> <td> 0.952</td> <td>-7.68e+05</td> <td> 7.22e+05</td>\n",
              "</tr>\n",
              "<tr>\n",
              "  <th>Altadore</th>                      <td> 3.744e+05</td> <td> 2.96e+05</td> <td>    1.267</td> <td> 0.208</td> <td>-2.12e+05</td> <td> 9.61e+05</td>\n",
              "</tr>\n",
              "<tr>\n",
              "  <th>Applewood Park</th>                <td>-1.043e+05</td> <td> 3.64e+05</td> <td>   -0.286</td> <td> 0.775</td> <td>-8.27e+05</td> <td> 6.19e+05</td>\n",
              "</tr>\n",
              "<tr>\n",
              "  <th>Aspen Woods</th>                   <td> 5.018e+04</td> <td> 3.79e+05</td> <td>    0.132</td> <td> 0.895</td> <td>-7.02e+05</td> <td> 8.03e+05</td>\n",
              "</tr>\n",
              "<tr>\n",
              "  <th>Bankview</th>                      <td>-1.111e+05</td> <td> 3.83e+05</td> <td>   -0.290</td> <td> 0.773</td> <td>-8.71e+05</td> <td> 6.49e+05</td>\n",
              "</tr>\n",
              "<tr>\n",
              "  <th>Beddington Heights</th>            <td>-1.127e+05</td> <td> 3.62e+05</td> <td>   -0.312</td> <td> 0.756</td> <td> -8.3e+05</td> <td> 6.05e+05</td>\n",
              "</tr>\n",
              "<tr>\n",
              "  <th>Bel-Aire</th>                      <td> 1.983e+06</td> <td> 3.91e+05</td> <td>    5.071</td> <td> 0.000</td> <td> 1.21e+06</td> <td> 2.76e+06</td>\n",
              "</tr>\n",
              "<tr>\n",
              "  <th>Bowness</th>                       <td> 2378.4087</td> <td> 3.16e+05</td> <td>    0.008</td> <td> 0.994</td> <td>-6.25e+05</td> <td>  6.3e+05</td>\n",
              "</tr>\n",
              "<tr>\n",
              "  <th>Bridgeland/Riverside</th>          <td>-2.139e+04</td> <td> 3.28e+05</td> <td>   -0.065</td> <td> 0.948</td> <td>-6.72e+05</td> <td> 6.29e+05</td>\n",
              "</tr>\n",
              "<tr>\n",
              "  <th>Britannia, Calgary</th>            <td>-2.324e+05</td> <td> 4.53e+05</td> <td>   -0.513</td> <td> 0.609</td> <td>-1.13e+06</td> <td> 6.67e+05</td>\n",
              "</tr>\n",
              "<tr>\n",
              "  <th>Cambrian Heights</th>              <td> 9.134e+05</td> <td> 3.72e+05</td> <td>    2.455</td> <td> 0.016</td> <td> 1.75e+05</td> <td> 1.65e+06</td>\n",
              "</tr>\n",
              "<tr>\n",
              "  <th>Castleridge</th>                   <td>-3.156e+04</td> <td>  3.2e+05</td> <td>   -0.099</td> <td> 0.922</td> <td>-6.67e+05</td> <td> 6.04e+05</td>\n",
              "</tr>\n",
              "<tr>\n",
              "  <th>Chaparral</th>                     <td> 6.051e+05</td> <td> 3.69e+05</td> <td>    1.640</td> <td> 0.104</td> <td>-1.27e+05</td> <td> 1.34e+06</td>\n",
              "</tr>\n",
              "<tr>\n",
              "  <th>Crescent Heights</th>              <td> 1.681e+05</td> <td> 4.42e+05</td> <td>    0.380</td> <td> 0.705</td> <td>-7.09e+05</td> <td> 1.04e+06</td>\n",
              "</tr>\n",
              "<tr>\n",
              "  <th>Currie Barracks</th>               <td> 3.025e+05</td> <td> 3.87e+05</td> <td>    0.781</td> <td> 0.437</td> <td>-4.66e+05</td> <td> 1.07e+06</td>\n",
              "</tr>\n",
              "<tr>\n",
              "  <th>Deer Ridge</th>                    <td>-2.047e+04</td> <td> 3.73e+05</td> <td>   -0.055</td> <td> 0.956</td> <td>-7.61e+05</td> <td>  7.2e+05</td>\n",
              "</tr>\n",
              "<tr>\n",
              "  <th>Dover</th>                         <td> 7673.8340</td> <td> 2.81e+05</td> <td>    0.027</td> <td> 0.978</td> <td>-5.49e+05</td> <td> 5.64e+05</td>\n",
              "</tr>\n",
              "<tr>\n",
              "  <th>Edgemont</th>                      <td> 9.793e+05</td> <td> 3.62e+05</td> <td>    2.709</td> <td> 0.008</td> <td> 2.62e+05</td> <td>  1.7e+06</td>\n",
              "</tr>\n",
              "<tr>\n",
              "  <th>Elbow Park</th>                    <td>-1.336e+05</td> <td> 3.88e+05</td> <td>   -0.344</td> <td> 0.732</td> <td>-9.04e+05</td> <td> 6.37e+05</td>\n",
              "</tr>\n",
              "<tr>\n",
              "  <th>Elbow Park\r</th>                   <td>-2.122e+04</td> <td> 3.81e+05</td> <td>   -0.056</td> <td> 0.956</td> <td>-7.78e+05</td> <td> 7.35e+05</td>\n",
              "</tr>\n",
              "<tr>\n",
              "  <th>Elboya</th>                        <td> 1777.6708</td> <td> 3.83e+05</td> <td>    0.005</td> <td> 0.996</td> <td>-7.58e+05</td> <td> 7.62e+05</td>\n",
              "</tr>\n",
              "<tr>\n",
              "  <th>Erin Woods</th>                    <td>-6195.6047</td> <td> 2.94e+05</td> <td>   -0.021</td> <td> 0.983</td> <td>-5.89e+05</td> <td> 5.77e+05</td>\n",
              "</tr>\n",
              "<tr>\n",
              "  <th>Erlton</th>                        <td> 1.992e+06</td> <td> 3.91e+05</td> <td>    5.098</td> <td> 0.000</td> <td> 1.22e+06</td> <td> 2.77e+06</td>\n",
              "</tr>\n",
              "<tr>\n",
              "  <th>Falconridge</th>                   <td>-2.074e+04</td> <td>  2.8e+05</td> <td>   -0.074</td> <td> 0.941</td> <td>-5.76e+05</td> <td> 5.35e+05</td>\n",
              "</tr>\n",
              "<tr>\n",
              "  <th>Forest Heights</th>                <td> 1.186e+04</td> <td> 2.99e+05</td> <td>    0.040</td> <td> 0.968</td> <td>-5.81e+05</td> <td> 6.04e+05</td>\n",
              "</tr>\n",
              "<tr>\n",
              "  <th>Forest Lawn</th>                   <td> 2.368e+04</td> <td> 3.16e+05</td> <td>    0.075</td> <td> 0.940</td> <td>-6.03e+05</td> <td>  6.5e+05</td>\n",
              "</tr>\n",
              "<tr>\n",
              "  <th>Glamorgan</th>                     <td>-7.922e+04</td> <td> 3.74e+05</td> <td>   -0.212</td> <td> 0.832</td> <td> -8.2e+05</td> <td> 6.62e+05</td>\n",
              "</tr>\n",
              "<tr>\n",
              "  <th>Greenwood</th>                     <td>-3.707e+04</td> <td> 2.07e+05</td> <td>   -0.179</td> <td> 0.858</td> <td>-4.48e+05</td> <td> 3.74e+05</td>\n",
              "</tr>\n",
              "<tr>\n",
              "  <th>Hamptons</th>                      <td> 1.481e+06</td> <td> 3.84e+05</td> <td>    3.859</td> <td> 0.000</td> <td>  7.2e+05</td> <td> 2.24e+06</td>\n",
              "</tr>\n",
              "<tr>\n",
              "  <th>Hillhurst</th>                     <td> 7.591e+04</td> <td> 3.34e+05</td> <td>    0.227</td> <td> 0.821</td> <td>-5.87e+05</td> <td> 7.39e+05</td>\n",
              "</tr>\n",
              "<tr>\n",
              "  <th>Hounsfield Heights/Briar Hill</th> <td> 7.938e+05</td> <td> 3.72e+05</td> <td>    2.133</td> <td> 0.035</td> <td> 5.56e+04</td> <td> 1.53e+06</td>\n",
              "</tr>\n",
              "<tr>\n",
              "  <th>Lake Bonavista</th>                <td> 2.999e+05</td> <td> 4.03e+05</td> <td>    0.745</td> <td> 0.458</td> <td>-4.99e+05</td> <td>  1.1e+06</td>\n",
              "</tr>\n",
              "<tr>\n",
              "  <th>Lakeview</th>                      <td> 4.807e+05</td> <td> 3.74e+05</td> <td>    1.284</td> <td> 0.202</td> <td>-2.62e+05</td> <td> 1.22e+06</td>\n",
              "</tr>\n",
              "<tr>\n",
              "  <th>Marlborough</th>                   <td>-4.367e+04</td> <td> 3.13e+05</td> <td>   -0.140</td> <td> 0.889</td> <td>-6.64e+05</td> <td> 5.76e+05</td>\n",
              "</tr>\n",
              "<tr>\n",
              "  <th>Martindale</th>                    <td>-7.846e+04</td> <td> 2.82e+05</td> <td>   -0.279</td> <td> 0.781</td> <td>-6.37e+05</td> <td>  4.8e+05</td>\n",
              "</tr>\n",
              "<tr>\n",
              "  <th>Mayfair</th>                       <td> 1.326e+05</td> <td> 3.95e+05</td> <td>    0.336</td> <td> 0.738</td> <td> -6.5e+05</td> <td> 9.15e+05</td>\n",
              "</tr>\n",
              "<tr>\n",
              "  <th>Millrise</th>                      <td>-4622.0701</td> <td> 3.67e+05</td> <td>   -0.013</td> <td> 0.990</td> <td>-7.32e+05</td> <td> 7.23e+05</td>\n",
              "</tr>\n",
              "<tr>\n",
              "  <th>Ogden</th>                         <td> 5.127e+04</td> <td> 3.21e+05</td> <td>    0.160</td> <td> 0.873</td> <td>-5.85e+05</td> <td> 6.88e+05</td>\n",
              "</tr>\n",
              "<tr>\n",
              "  <th>Parkland</th>                      <td> 6.536e+05</td> <td> 3.66e+05</td> <td>    1.787</td> <td> 0.077</td> <td>-7.18e+04</td> <td> 1.38e+06</td>\n",
              "</tr>\n",
              "<tr>\n",
              "  <th>Penbrooke Meadows</th>             <td>-2.988e+04</td> <td> 2.85e+05</td> <td>   -0.105</td> <td> 0.917</td> <td>-5.95e+05</td> <td> 5.36e+05</td>\n",
              "</tr>\n",
              "<tr>\n",
              "  <th>Pineridge</th>                     <td>-6.615e+04</td> <td> 2.99e+05</td> <td>   -0.221</td> <td> 0.825</td> <td>-6.59e+05</td> <td> 5.26e+05</td>\n",
              "</tr>\n",
              "<tr>\n",
              "  <th>Ramsay</th>                        <td> 4.227e+05</td> <td> 3.86e+05</td> <td>    1.095</td> <td> 0.276</td> <td>-3.43e+05</td> <td> 1.19e+06</td>\n",
              "</tr>\n",
              "<tr>\n",
              "  <th>Richmond</th>                      <td> 9.619e+05</td> <td> 3.77e+05</td> <td>    2.554</td> <td> 0.012</td> <td> 2.15e+05</td> <td> 1.71e+06</td>\n",
              "</tr>\n",
              "<tr>\n",
              "  <th>Rideau Park</th>                   <td> 8.645e+05</td> <td> 4.31e+05</td> <td>    2.004</td> <td> 0.048</td> <td> 8874.154</td> <td> 1.72e+06</td>\n",
              "</tr>\n",
              "<tr>\n",
              "  <th>Rocky Ridge</th>                   <td> 2.065e+05</td> <td> 3.82e+05</td> <td>    0.540</td> <td> 0.590</td> <td>-5.51e+05</td> <td> 9.64e+05</td>\n",
              "</tr>\n",
              "<tr>\n",
              "  <th>Roxboro</th>                       <td> 3.214e+05</td> <td> 3.64e+05</td> <td>    0.884</td> <td> 0.379</td> <td>   -4e+05</td> <td> 1.04e+06</td>\n",
              "</tr>\n",
              "<tr>\n",
              "  <th>Rundle</th>                        <td> -234.2643</td> <td> 3.21e+05</td> <td>   -0.001</td> <td> 0.999</td> <td>-6.37e+05</td> <td> 6.36e+05</td>\n",
              "</tr>\n",
              "<tr>\n",
              "  <th>Rural Foothills M.D.</th>          <td>-1.574e+04</td> <td> 3.88e+05</td> <td>   -0.041</td> <td> 0.968</td> <td>-7.86e+05</td> <td> 7.55e+05</td>\n",
              "</tr>\n",
              "<tr>\n",
              "  <th>Saddle Ridge</th>                  <td> 2.114e+04</td> <td> 3.81e+05</td> <td>    0.055</td> <td> 0.956</td> <td>-7.35e+05</td> <td> 7.78e+05</td>\n",
              "</tr>\n",
              "<tr>\n",
              "  <th>Scarboro/Sunalta West</th>         <td> 4.023e+04</td> <td> 3.78e+05</td> <td>    0.107</td> <td> 0.915</td> <td>-7.09e+05</td> <td> 7.89e+05</td>\n",
              "</tr>\n",
              "<tr>\n",
              "  <th>Springbank Hill</th>               <td> 5.614e+05</td> <td> 3.09e+05</td> <td>    1.815</td> <td> 0.072</td> <td>-5.22e+04</td> <td> 1.17e+06</td>\n",
              "</tr>\n",
              "<tr>\n",
              "  <th>Springbank Hill,</th>              <td> 1.203e+06</td> <td> 3.73e+05</td> <td>    3.228</td> <td> 0.002</td> <td> 4.64e+05</td> <td> 1.94e+06</td>\n",
              "</tr>\n",
              "<tr>\n",
              "  <th>Taradale</th>                      <td>-1.198e+05</td> <td> 2.85e+05</td> <td>   -0.421</td> <td> 0.675</td> <td>-6.85e+05</td> <td> 4.45e+05</td>\n",
              "</tr>\n",
              "<tr>\n",
              "  <th>Temple</th>                        <td>-2.502e+04</td> <td> 2.95e+05</td> <td>   -0.085</td> <td> 0.932</td> <td>-6.09e+05</td> <td> 5.59e+05</td>\n",
              "</tr>\n",
              "<tr>\n",
              "  <th>Tuxedo Park</th>                   <td>-8.202e+04</td> <td> 4.09e+05</td> <td>   -0.200</td> <td> 0.842</td> <td>-8.94e+05</td> <td>  7.3e+05</td>\n",
              "</tr>\n",
              "<tr>\n",
              "  <th>Upper Mount Royal</th>             <td> 7.257e+05</td> <td> 3.29e+05</td> <td>    2.203</td> <td> 0.030</td> <td> 7.21e+04</td> <td> 1.38e+06</td>\n",
              "</tr>\n",
              "<tr>\n",
              "  <th>Upper Mount Royal\r</th>            <td>-3.528e+05</td> <td> 4.81e+05</td> <td>   -0.734</td> <td> 0.465</td> <td>-1.31e+06</td> <td> 6.01e+05</td>\n",
              "</tr>\n",
              "<tr>\n",
              "  <th>Upper Mount Royal,</th>            <td> 5.555e+04</td> <td>  4.8e+05</td> <td>    0.116</td> <td> 0.908</td> <td>-8.97e+05</td> <td> 1.01e+06</td>\n",
              "</tr>\n",
              "<tr>\n",
              "  <th>Vista Heights</th>                 <td>-1.524e+04</td> <td> 3.79e+05</td> <td>   -0.040</td> <td> 0.968</td> <td>-7.66e+05</td> <td> 7.36e+05</td>\n",
              "</tr>\n",
              "<tr>\n",
              "  <th>West Hillhurst</th>                <td>-1.172e+05</td> <td> 3.44e+05</td> <td>   -0.341</td> <td> 0.734</td> <td>   -8e+05</td> <td> 5.66e+05</td>\n",
              "</tr>\n",
              "<tr>\n",
              "  <th>Whitehorn</th>                     <td>-8117.1887</td> <td> 3.19e+05</td> <td>   -0.025</td> <td> 0.980</td> <td>-6.41e+05</td> <td> 6.24e+05</td>\n",
              "</tr>\n",
              "<tr>\n",
              "  <th>Wildwood</th>                      <td> 3.391e+05</td> <td> 3.74e+05</td> <td>    0.907</td> <td> 0.367</td> <td>-4.03e+05</td> <td> 1.08e+06</td>\n",
              "</tr>\n",
              "<tr>\n",
              "  <th>Willow Park</th>                   <td> 4.958e+05</td> <td>  3.2e+05</td> <td>    1.552</td> <td> 0.124</td> <td>-1.38e+05</td> <td> 1.13e+06</td>\n",
              "</tr>\n",
              "<tr>\n",
              "  <th>Windsor Park</th>                  <td> 1.166e+06</td> <td> 3.59e+05</td> <td>    3.248</td> <td> 0.002</td> <td> 4.54e+05</td> <td> 1.88e+06</td>\n",
              "</tr>\n",
              "<tr>\n",
              "  <th>Winston Heights</th>               <td> 6.222e+04</td> <td> 3.76e+05</td> <td>    0.165</td> <td> 0.869</td> <td>-6.84e+05</td> <td> 8.08e+05</td>\n",
              "</tr>\n",
              "<tr>\n",
              "  <th>Winston Heights/Mountview,</th>    <td>  8.71e+05</td> <td> 3.69e+05</td> <td>    2.358</td> <td> 0.020</td> <td> 1.38e+05</td> <td>  1.6e+06</td>\n",
              "</tr>\n",
              "<tr>\n",
              "  <th>Woodbine</th>                      <td> 1.877e+06</td> <td> 3.74e+05</td> <td>    5.012</td> <td> 0.000</td> <td> 1.13e+06</td> <td> 2.62e+06</td>\n",
              "</tr>\n",
              "<tr>\n",
              "  <th>beltline</th>                      <td> 1.394e+05</td> <td> 3.08e+05</td> <td>    0.452</td> <td> 0.652</td> <td>-4.72e+05</td> <td> 7.51e+05</td>\n",
              "</tr>\n",
              "<tr>\n",
              "  <th>bowness</th>                       <td> 7.229e+04</td> <td> 3.46e+05</td> <td>    0.209</td> <td> 0.835</td> <td>-6.14e+05</td> <td> 7.58e+05</td>\n",
              "</tr>\n",
              "<tr>\n",
              "  <th>brentwood</th>                     <td> 4.652e+04</td> <td>  3.7e+05</td> <td>    0.126</td> <td> 0.900</td> <td>-6.87e+05</td> <td>  7.8e+05</td>\n",
              "</tr>\n",
              "<tr>\n",
              "  <th>canyon meadows</th>                <td> 9.589e+04</td> <td> 3.71e+05</td> <td>    0.259</td> <td> 0.796</td> <td> -6.4e+05</td> <td> 8.31e+05</td>\n",
              "</tr>\n",
              "<tr>\n",
              "  <th>chaparral</th>                     <td>-8285.6414</td> <td> 3.76e+05</td> <td>   -0.022</td> <td> 0.982</td> <td>-7.54e+05</td> <td> 7.37e+05</td>\n",
              "</tr>\n",
              "<tr>\n",
              "  <th>citadel</th>                       <td> 6.904e+04</td> <td> 3.93e+05</td> <td>    0.176</td> <td> 0.861</td> <td> -7.1e+05</td> <td> 8.48e+05</td>\n",
              "</tr>\n",
              "<tr>\n",
              "  <th>coral spring</th>                  <td>-9601.4889</td> <td> 3.73e+05</td> <td>   -0.026</td> <td> 0.979</td> <td>-7.49e+05</td> <td>  7.3e+05</td>\n",
              "</tr>\n",
              "<tr>\n",
              "  <th>cornerstone</th>                   <td> 7.149e+04</td> <td> 3.06e+05</td> <td>    0.234</td> <td> 0.816</td> <td>-5.35e+05</td> <td> 6.78e+05</td>\n",
              "</tr>\n",
              "<tr>\n",
              "  <th>downtown east village</th>         <td> 1.253e+05</td> <td> 3.22e+05</td> <td>    0.389</td> <td> 0.698</td> <td>-5.14e+05</td> <td> 7.64e+05</td>\n",
              "</tr>\n",
              "<tr>\n",
              "  <th>forest lawn</th>                   <td> 7.266e+04</td> <td>  3.7e+05</td> <td>    0.197</td> <td> 0.845</td> <td>-6.61e+05</td> <td> 8.06e+05</td>\n",
              "</tr>\n",
              "<tr>\n",
              "  <th>hidden valley</th>                 <td> -1.03e+05</td> <td> 3.21e+05</td> <td>   -0.321</td> <td> 0.749</td> <td> -7.4e+05</td> <td> 5.34e+05</td>\n",
              "</tr>\n",
              "<tr>\n",
              "  <th>inglewood</th>                     <td> 1.022e+05</td> <td> 3.96e+05</td> <td>    0.258</td> <td> 0.797</td> <td>-6.83e+05</td> <td> 8.87e+05</td>\n",
              "</tr>\n",
              "<tr>\n",
              "  <th>kelvin grove</th>                  <td> 1.282e+05</td> <td> 3.84e+05</td> <td>    0.334</td> <td> 0.739</td> <td>-6.33e+05</td> <td>  8.9e+05</td>\n",
              "</tr>\n",
              "<tr>\n",
              "  <th>mckenzie</th>                      <td>-1.733e+04</td> <td> 3.73e+05</td> <td>   -0.047</td> <td> 0.963</td> <td>-7.56e+05</td> <td> 7.22e+05</td>\n",
              "</tr>\n",
              "<tr>\n",
              "  <th>new brighton</th>                  <td>-5.043e+04</td> <td> 3.97e+05</td> <td>   -0.127</td> <td> 0.899</td> <td>-8.39e+05</td> <td> 7.38e+05</td>\n",
              "</tr>\n",
              "<tr>\n",
              "  <th>pineridge</th>                     <td> 3324.6008</td> <td>  3.9e+05</td> <td>    0.009</td> <td> 0.993</td> <td>-7.71e+05</td> <td> 7.78e+05</td>\n",
              "</tr>\n",
              "<tr>\n",
              "  <th>rideau park</th>                   <td> 3.295e+04</td> <td> 3.89e+05</td> <td>    0.085</td> <td> 0.933</td> <td> -7.4e+05</td> <td> 8.06e+05</td>\n",
              "</tr>\n",
              "<tr>\n",
              "  <th>sage hill</th>                     <td> 1.581e+05</td> <td> 3.86e+05</td> <td>    0.410</td> <td> 0.683</td> <td>-6.07e+05</td> <td> 9.23e+05</td>\n",
              "</tr>\n",
              "<tr>\n",
              "  <th>skyview ranch</th>                 <td> 3.755e+04</td> <td>    3e+05</td> <td>    0.125</td> <td> 0.901</td> <td>-5.58e+05</td> <td> 6.33e+05</td>\n",
              "</tr>\n",
              "<tr>\n",
              "  <th>southwood</th>                     <td>-7.949e+04</td> <td> 3.71e+05</td> <td>   -0.214</td> <td> 0.831</td> <td>-8.16e+05</td> <td> 6.57e+05</td>\n",
              "</tr>\n",
              "<tr>\n",
              "  <th>sunnyside</th>                     <td> 4.799e+05</td> <td> 3.84e+05</td> <td>    1.250</td> <td> 0.214</td> <td>-2.82e+05</td> <td> 1.24e+06</td>\n",
              "</tr>\n",
              "<tr>\n",
              "  <th>upper mount royal</th>             <td> 6.977e+04</td> <td> 3.89e+05</td> <td>    0.180</td> <td> 0.858</td> <td>-7.01e+05</td> <td> 8.41e+05</td>\n",
              "</tr>\n",
              "<tr>\n",
              "  <th>Mobile Home</th>                   <td>-6892.6805</td> <td> 2.11e+05</td> <td>   -0.033</td> <td> 0.974</td> <td>-4.26e+05</td> <td> 4.12e+05</td>\n",
              "</tr>\n",
              "<tr>\n",
              "  <th>apartment</th>                     <td>-7.375e+04</td> <td>  1.6e+05</td> <td>   -0.460</td> <td> 0.646</td> <td>-3.92e+05</td> <td> 2.44e+05</td>\n",
              "</tr>\n",
              "<tr>\n",
              "  <th>duplex</th>                        <td>-3.605e+04</td> <td> 1.51e+05</td> <td>   -0.239</td> <td> 0.812</td> <td>-3.35e+05</td> <td> 2.63e+05</td>\n",
              "</tr>\n",
              "<tr>\n",
              "  <th>house</th>                         <td>-7.181e+04</td> <td> 8.38e+04</td> <td>   -0.857</td> <td> 0.394</td> <td>-2.38e+05</td> <td> 9.45e+04</td>\n",
              "</tr>\n",
              "<tr>\n",
              "  <th>mobile</th>                        <td>-3.018e+04</td> <td> 2.06e+05</td> <td>   -0.146</td> <td> 0.884</td> <td> -4.4e+05</td> <td> 3.79e+05</td>\n",
              "</tr>\n",
              "<tr>\n",
              "  <th>townhouse</th>                     <td>-1.502e+05</td> <td> 1.14e+05</td> <td>   -1.323</td> <td> 0.189</td> <td>-3.75e+05</td> <td>  7.5e+04</td>\n",
              "</tr>\n",
              "</table>\n",
              "<table class=\"simpletable\">\n",
              "<tr>\n",
              "  <th>Omnibus:</th>       <td>122.709</td> <th>  Durbin-Watson:     </th> <td>   1.929</td>\n",
              "</tr>\n",
              "<tr>\n",
              "  <th>Prob(Omnibus):</th> <td> 0.000</td>  <th>  Jarque-Bera (JB):  </th> <td>2140.404</td>\n",
              "</tr>\n",
              "<tr>\n",
              "  <th>Skew:</th>          <td> 1.923</td>  <th>  Prob(JB):          </th> <td>    0.00</td>\n",
              "</tr>\n",
              "<tr>\n",
              "  <th>Kurtosis:</th>      <td>18.558</td>  <th>  Cond. No.          </th> <td>2.94e+20</td>\n",
              "</tr>\n",
              "</table><br/><br/>Warnings:<br/>[1] Standard Errors assume that the covariance matrix of the errors is correctly specified.<br/>[2] The smallest eigenvalue is 2.78e-27. This might indicate that there are<br/>strong multicollinearity problems or that the design matrix is singular."
            ],
            "text/plain": [
              "<class 'statsmodels.iolib.summary.Summary'>\n",
              "\"\"\"\n",
              "                            OLS Regression Results                            \n",
              "==============================================================================\n",
              "Dep. Variable:           Asking_Price   R-squared:                       0.967\n",
              "Model:                            OLS   Adj. R-squared:                  0.934\n",
              "Method:                 Least Squares   F-statistic:                     29.84\n",
              "Date:                Wed, 23 Sep 2020   Prob (F-statistic):           1.94e-47\n",
              "Time:                        20:08:28   Log-Likelihood:                -2702.0\n",
              "No. Observations:                 200   AIC:                             5602.\n",
              "Df Residuals:                     101   BIC:                             5928.\n",
              "Df Model:                          98                                         \n",
              "Covariance Type:            nonrobust                                         \n",
              "=================================================================================================\n",
              "                                    coef    std err          t      P>|t|      [0.025      0.975]\n",
              "-------------------------------------------------------------------------------------------------\n",
              "const                          9.539e+05   5.93e+06      0.161      0.872   -1.08e+07    1.27e+07\n",
              "Year_Built                     -515.1413   3001.929     -0.172      0.864   -6470.162    5439.879\n",
              "Storeys                        1.221e+05   7.07e+04      1.727      0.087   -1.82e+04    2.62e+05\n",
              "Assessed_Price                    0.8334      0.104      8.021      0.000       0.627       1.040\n",
              "Abbeydale                     -9.509e+04   2.92e+05     -0.326      0.745   -6.74e+05    4.84e+05\n",
              "Acadia                         -2.27e+04   3.76e+05     -0.060      0.952   -7.68e+05    7.22e+05\n",
              "Altadore                       3.744e+05   2.96e+05      1.267      0.208   -2.12e+05    9.61e+05\n",
              "Applewood Park                -1.043e+05   3.64e+05     -0.286      0.775   -8.27e+05    6.19e+05\n",
              "Aspen Woods                    5.018e+04   3.79e+05      0.132      0.895   -7.02e+05    8.03e+05\n",
              "Bankview                      -1.111e+05   3.83e+05     -0.290      0.773   -8.71e+05    6.49e+05\n",
              "Beddington Heights            -1.127e+05   3.62e+05     -0.312      0.756    -8.3e+05    6.05e+05\n",
              "Bel-Aire                       1.983e+06   3.91e+05      5.071      0.000    1.21e+06    2.76e+06\n",
              "Bowness                        2378.4087   3.16e+05      0.008      0.994   -6.25e+05     6.3e+05\n",
              "Bridgeland/Riverside          -2.139e+04   3.28e+05     -0.065      0.948   -6.72e+05    6.29e+05\n",
              "Britannia, Calgary            -2.324e+05   4.53e+05     -0.513      0.609   -1.13e+06    6.67e+05\n",
              "Cambrian Heights               9.134e+05   3.72e+05      2.455      0.016    1.75e+05    1.65e+06\n",
              "Castleridge                   -3.156e+04    3.2e+05     -0.099      0.922   -6.67e+05    6.04e+05\n",
              "Chaparral                      6.051e+05   3.69e+05      1.640      0.104   -1.27e+05    1.34e+06\n",
              "Crescent Heights               1.681e+05   4.42e+05      0.380      0.705   -7.09e+05    1.04e+06\n",
              "Currie Barracks                3.025e+05   3.87e+05      0.781      0.437   -4.66e+05    1.07e+06\n",
              "Deer Ridge                    -2.047e+04   3.73e+05     -0.055      0.956   -7.61e+05     7.2e+05\n",
              "Dover                          7673.8340   2.81e+05      0.027      0.978   -5.49e+05    5.64e+05\n",
              "Edgemont                       9.793e+05   3.62e+05      2.709      0.008    2.62e+05     1.7e+06\n",
              "Elbow Park                    -1.336e+05   3.88e+05     -0.344      0.732   -9.04e+05    6.37e+05\n",
              "Elbow Park\n",
              "                   -2.122e+04   3.81e+05     -0.056      0.956   -7.78e+05    7.35e+05\n",
              "Elboya                         1777.6708   3.83e+05      0.005      0.996   -7.58e+05    7.62e+05\n",
              "Erin Woods                    -6195.6047   2.94e+05     -0.021      0.983   -5.89e+05    5.77e+05\n",
              "Erlton                         1.992e+06   3.91e+05      5.098      0.000    1.22e+06    2.77e+06\n",
              "Falconridge                   -2.074e+04    2.8e+05     -0.074      0.941   -5.76e+05    5.35e+05\n",
              "Forest Heights                 1.186e+04   2.99e+05      0.040      0.968   -5.81e+05    6.04e+05\n",
              "Forest Lawn                    2.368e+04   3.16e+05      0.075      0.940   -6.03e+05     6.5e+05\n",
              "Glamorgan                     -7.922e+04   3.74e+05     -0.212      0.832    -8.2e+05    6.62e+05\n",
              "Greenwood                     -3.707e+04   2.07e+05     -0.179      0.858   -4.48e+05    3.74e+05\n",
              "Hamptons                       1.481e+06   3.84e+05      3.859      0.000     7.2e+05    2.24e+06\n",
              "Hillhurst                      7.591e+04   3.34e+05      0.227      0.821   -5.87e+05    7.39e+05\n",
              "Hounsfield Heights/Briar Hill  7.938e+05   3.72e+05      2.133      0.035    5.56e+04    1.53e+06\n",
              "Lake Bonavista                 2.999e+05   4.03e+05      0.745      0.458   -4.99e+05     1.1e+06\n",
              "Lakeview                       4.807e+05   3.74e+05      1.284      0.202   -2.62e+05    1.22e+06\n",
              "Marlborough                   -4.367e+04   3.13e+05     -0.140      0.889   -6.64e+05    5.76e+05\n",
              "Martindale                    -7.846e+04   2.82e+05     -0.279      0.781   -6.37e+05     4.8e+05\n",
              "Mayfair                        1.326e+05   3.95e+05      0.336      0.738    -6.5e+05    9.15e+05\n",
              "Millrise                      -4622.0701   3.67e+05     -0.013      0.990   -7.32e+05    7.23e+05\n",
              "Ogden                          5.127e+04   3.21e+05      0.160      0.873   -5.85e+05    6.88e+05\n",
              "Parkland                       6.536e+05   3.66e+05      1.787      0.077   -7.18e+04    1.38e+06\n",
              "Penbrooke Meadows             -2.988e+04   2.85e+05     -0.105      0.917   -5.95e+05    5.36e+05\n",
              "Pineridge                     -6.615e+04   2.99e+05     -0.221      0.825   -6.59e+05    5.26e+05\n",
              "Ramsay                         4.227e+05   3.86e+05      1.095      0.276   -3.43e+05    1.19e+06\n",
              "Richmond                       9.619e+05   3.77e+05      2.554      0.012    2.15e+05    1.71e+06\n",
              "Rideau Park                    8.645e+05   4.31e+05      2.004      0.048    8874.154    1.72e+06\n",
              "Rocky Ridge                    2.065e+05   3.82e+05      0.540      0.590   -5.51e+05    9.64e+05\n",
              "Roxboro                        3.214e+05   3.64e+05      0.884      0.379      -4e+05    1.04e+06\n",
              "Rundle                         -234.2643   3.21e+05     -0.001      0.999   -6.37e+05    6.36e+05\n",
              "Rural Foothills M.D.          -1.574e+04   3.88e+05     -0.041      0.968   -7.86e+05    7.55e+05\n",
              "Saddle Ridge                   2.114e+04   3.81e+05      0.055      0.956   -7.35e+05    7.78e+05\n",
              "Scarboro/Sunalta West          4.023e+04   3.78e+05      0.107      0.915   -7.09e+05    7.89e+05\n",
              "Springbank Hill                5.614e+05   3.09e+05      1.815      0.072   -5.22e+04    1.17e+06\n",
              "Springbank Hill,               1.203e+06   3.73e+05      3.228      0.002    4.64e+05    1.94e+06\n",
              "Taradale                      -1.198e+05   2.85e+05     -0.421      0.675   -6.85e+05    4.45e+05\n",
              "Temple                        -2.502e+04   2.95e+05     -0.085      0.932   -6.09e+05    5.59e+05\n",
              "Tuxedo Park                   -8.202e+04   4.09e+05     -0.200      0.842   -8.94e+05     7.3e+05\n",
              "Upper Mount Royal              7.257e+05   3.29e+05      2.203      0.030    7.21e+04    1.38e+06\n",
              "Upper Mount Royal\n",
              "            -3.528e+05   4.81e+05     -0.734      0.465   -1.31e+06    6.01e+05\n",
              "Upper Mount Royal,             5.555e+04    4.8e+05      0.116      0.908   -8.97e+05    1.01e+06\n",
              "Vista Heights                 -1.524e+04   3.79e+05     -0.040      0.968   -7.66e+05    7.36e+05\n",
              "West Hillhurst                -1.172e+05   3.44e+05     -0.341      0.734      -8e+05    5.66e+05\n",
              "Whitehorn                     -8117.1887   3.19e+05     -0.025      0.980   -6.41e+05    6.24e+05\n",
              "Wildwood                       3.391e+05   3.74e+05      0.907      0.367   -4.03e+05    1.08e+06\n",
              "Willow Park                    4.958e+05    3.2e+05      1.552      0.124   -1.38e+05    1.13e+06\n",
              "Windsor Park                   1.166e+06   3.59e+05      3.248      0.002    4.54e+05    1.88e+06\n",
              "Winston Heights                6.222e+04   3.76e+05      0.165      0.869   -6.84e+05    8.08e+05\n",
              "Winston Heights/Mountview,      8.71e+05   3.69e+05      2.358      0.020    1.38e+05     1.6e+06\n",
              "Woodbine                       1.877e+06   3.74e+05      5.012      0.000    1.13e+06    2.62e+06\n",
              "beltline                       1.394e+05   3.08e+05      0.452      0.652   -4.72e+05    7.51e+05\n",
              "bowness                        7.229e+04   3.46e+05      0.209      0.835   -6.14e+05    7.58e+05\n",
              "brentwood                      4.652e+04    3.7e+05      0.126      0.900   -6.87e+05     7.8e+05\n",
              "canyon meadows                 9.589e+04   3.71e+05      0.259      0.796    -6.4e+05    8.31e+05\n",
              "chaparral                     -8285.6414   3.76e+05     -0.022      0.982   -7.54e+05    7.37e+05\n",
              "citadel                        6.904e+04   3.93e+05      0.176      0.861    -7.1e+05    8.48e+05\n",
              "coral spring                  -9601.4889   3.73e+05     -0.026      0.979   -7.49e+05     7.3e+05\n",
              "cornerstone                    7.149e+04   3.06e+05      0.234      0.816   -5.35e+05    6.78e+05\n",
              "downtown east village          1.253e+05   3.22e+05      0.389      0.698   -5.14e+05    7.64e+05\n",
              "forest lawn                    7.266e+04    3.7e+05      0.197      0.845   -6.61e+05    8.06e+05\n",
              "hidden valley                  -1.03e+05   3.21e+05     -0.321      0.749    -7.4e+05    5.34e+05\n",
              "inglewood                      1.022e+05   3.96e+05      0.258      0.797   -6.83e+05    8.87e+05\n",
              "kelvin grove                   1.282e+05   3.84e+05      0.334      0.739   -6.33e+05     8.9e+05\n",
              "mckenzie                      -1.733e+04   3.73e+05     -0.047      0.963   -7.56e+05    7.22e+05\n",
              "new brighton                  -5.043e+04   3.97e+05     -0.127      0.899   -8.39e+05    7.38e+05\n",
              "pineridge                      3324.6008    3.9e+05      0.009      0.993   -7.71e+05    7.78e+05\n",
              "rideau park                    3.295e+04   3.89e+05      0.085      0.933    -7.4e+05    8.06e+05\n",
              "sage hill                      1.581e+05   3.86e+05      0.410      0.683   -6.07e+05    9.23e+05\n",
              "skyview ranch                  3.755e+04      3e+05      0.125      0.901   -5.58e+05    6.33e+05\n",
              "southwood                     -7.949e+04   3.71e+05     -0.214      0.831   -8.16e+05    6.57e+05\n",
              "sunnyside                      4.799e+05   3.84e+05      1.250      0.214   -2.82e+05    1.24e+06\n",
              "upper mount royal              6.977e+04   3.89e+05      0.180      0.858   -7.01e+05    8.41e+05\n",
              "Mobile Home                   -6892.6805   2.11e+05     -0.033      0.974   -4.26e+05    4.12e+05\n",
              "apartment                     -7.375e+04    1.6e+05     -0.460      0.646   -3.92e+05    2.44e+05\n",
              "duplex                        -3.605e+04   1.51e+05     -0.239      0.812   -3.35e+05    2.63e+05\n",
              "house                         -7.181e+04   8.38e+04     -0.857      0.394   -2.38e+05    9.45e+04\n",
              "mobile                        -3.018e+04   2.06e+05     -0.146      0.884    -4.4e+05    3.79e+05\n",
              "townhouse                     -1.502e+05   1.14e+05     -1.323      0.189   -3.75e+05     7.5e+04\n",
              "==============================================================================\n",
              "Omnibus:                      122.709   Durbin-Watson:                   1.929\n",
              "Prob(Omnibus):                  0.000   Jarque-Bera (JB):             2140.404\n",
              "Skew:                           1.923   Prob(JB):                         0.00\n",
              "Kurtosis:                      18.558   Cond. No.                     2.94e+20\n",
              "==============================================================================\n",
              "\n",
              "Warnings:\n",
              "[1] Standard Errors assume that the covariance matrix of the errors is correctly specified.\n",
              "[2] The smallest eigenvalue is 2.78e-27. This might indicate that there are\n",
              "strong multicollinearity problems or that the design matrix is singular.\n",
              "\"\"\""
            ]
          },
          "metadata": {
            "tags": []
          },
          "execution_count": 15
        }
      ]
    },
    {
      "cell_type": "code",
      "metadata": {
        "id": "lc5WKz6aAIhF",
        "colab_type": "code",
        "colab": {}
      },
      "source": [
        "predict_model = LinearRegression().fit(A,B)\n",
        "final_prediction = predict_model.score(A,B)"
      ],
      "execution_count": 21,
      "outputs": []
    },
    {
      "cell_type": "markdown",
      "metadata": {
        "id": "vPFz28cBDstG",
        "colab_type": "text"
      },
      "source": [
        "Predicting Asking price based on assessed price"
      ]
    },
    {
      "cell_type": "code",
      "metadata": {
        "id": "akSiq2rfAe4M",
        "colab_type": "code",
        "colab": {
          "base_uri": "https://localhost:8080/",
          "height": 34
        },
        "outputId": "aeec4a53-fa22-49a9-ec75-de11a55d33b3"
      },
      "source": [
        "print(final_prediction)# Accuracy of prediction"
      ],
      "execution_count": 22,
      "outputs": [
        {
          "output_type": "stream",
          "text": [
            "0.9666149758973638\n"
          ],
          "name": "stdout"
        }
      ]
    }
  ]
}